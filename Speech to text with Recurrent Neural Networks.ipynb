{
 "cells": [
  {
   "cell_type": "code",
   "execution_count": null,
   "metadata": {
    "ExecuteTime": {
     "end_time": "2019-06-22T09:54:58.618612Z",
     "start_time": "2019-06-22T09:54:46.317894Z"
    }
   },
   "outputs": [],
   "source": [
    "import tflearn\n",
    "import librosa\n",
    "import speech_data"
   ]
  },
  {
   "cell_type": "code",
   "execution_count": null,
   "metadata": {
    "ExecuteTime": {
     "end_time": "2019-03-10T20:44:28.920511Z",
     "start_time": "2019-03-10T20:44:28.915910Z"
    }
   },
   "outputs": [],
   "source": [
    "learning_rate = 0.0001\n",
    "training_iters = 300000"
   ]
  },
  {
   "cell_type": "code",
   "execution_count": null,
   "metadata": {
    "ExecuteTime": {
     "end_time": "2019-03-10T20:44:29.420595Z",
     "start_time": "2019-03-10T20:44:29.414816Z"
    }
   },
   "outputs": [],
   "source": [
    "batch = word_batch = speech_data.mfcc_batch_generator(64)"
   ]
  },
  {
   "cell_type": "code",
   "execution_count": null,
   "metadata": {
    "ExecuteTime": {
     "end_time": "2019-03-10T20:44:40.577925Z",
     "start_time": "2019-03-10T20:44:29.861823Z"
    }
   },
   "outputs": [],
   "source": [
    "net = tflearn.input_data([None, 20, 80])\n",
    "net = tflearn.lstm(net,128,dropout=0.8)\n",
    "net = tflearn.fully_connected(net,10,activation='softmax')\n",
    "net = tflearn.regression(net,optimizer='adam', learning_rate=learning_rate)\n",
    "model = tflearn.DNN(net,tensorboard_verbose=0)"
   ]
  },
  {
   "cell_type": "code",
   "execution_count": null,
   "metadata": {
    "ExecuteTime": {
     "end_time": "2019-03-10T20:44:53.926014Z",
     "start_time": "2019-03-10T20:44:40.598544Z"
    },
    "scrolled": true
   },
   "outputs": [],
   "source": [
    "while --training_iters>0:\n",
    "    trainX,trainY = next(batch)\n",
    "    testX,testY = next(batch)\n",
    "    model.fit(trainX, trainY, n_epoch = 10, validation_set = (testX, testY), show_metric=True, batch_size = 64)\n",
    "model.save('tflearn.lstm.model')"
   ]
  },
  {
   "cell_type": "code",
   "execution_count": null,
   "metadata": {
    "ExecuteTime": {
     "end_time": "2019-03-10T20:45:42.770426Z",
     "start_time": "2019-03-10T20:45:39.972888Z"
    }
   },
   "outputs": [],
   "source": [
    "_y = model.predict(next(batch)[0])\n",
    "print(_y)"
   ]
  },
  {
   "cell_type": "code",
   "execution_count": null,
   "metadata": {
    "ExecuteTime": {
     "end_time": "2019-06-22T11:17:31.628865Z",
     "start_time": "2019-06-22T11:17:31.606428Z"
    }
   },
   "outputs": [],
   "source": [
    "from sklearn.datasets import load_iris\n",
    "from sklearn.model_selection import train_test_split\n",
    "X,y = load_iris().data,load_iris().target\n",
    "X"
   ]
  },
  {
   "cell_type": "code",
   "execution_count": null,
   "metadata": {
    "ExecuteTime": {
     "end_time": "2019-06-22T11:19:48.625029Z",
     "start_time": "2019-06-22T11:19:48.620079Z"
    },
    "run_control": {
     "marked": true
    }
   },
   "outputs": [],
   "source": [
    "a = dict(zip(np.bincount(y),np.unique(y)))\n",
    "a"
   ]
  },
  {
   "cell_type": "code",
   "execution_count": null,
   "metadata": {
    "ExecuteTime": {
     "end_time": "2019-06-22T11:18:57.555626Z",
     "start_time": "2019-06-22T11:18:57.547637Z"
    }
   },
   "outputs": [],
   "source": [
    "np.unique(y)"
   ]
  },
  {
   "cell_type": "code",
   "execution_count": null,
   "metadata": {},
   "outputs": [],
   "source": []
  }
 ],
 "metadata": {
  "kernelspec": {
   "display_name": "Python 3",
   "language": "python",
   "name": "python3"
  },
  "language_info": {
   "codemirror_mode": {
    "name": "ipython",
    "version": 3
   },
   "file_extension": ".py",
   "mimetype": "text/x-python",
   "name": "python",
   "nbconvert_exporter": "python",
   "pygments_lexer": "ipython3",
   "version": "3.6.7"
  },
  "toc": {
   "base_numbering": 1,
   "nav_menu": {},
   "number_sections": true,
   "sideBar": true,
   "skip_h1_title": false,
   "title_cell": "Table of Contents",
   "title_sidebar": "Contents",
   "toc_cell": false,
   "toc_position": {},
   "toc_section_display": true,
   "toc_window_display": false
  },
  "varInspector": {
   "cols": {
    "lenName": 16,
    "lenType": 16,
    "lenVar": 40
   },
   "kernels_config": {
    "python": {
     "delete_cmd_postfix": "",
     "delete_cmd_prefix": "del ",
     "library": "var_list.py",
     "varRefreshCmd": "print(var_dic_list())"
    },
    "r": {
     "delete_cmd_postfix": ") ",
     "delete_cmd_prefix": "rm(",
     "library": "var_list.r",
     "varRefreshCmd": "cat(var_dic_list()) "
    }
   },
   "types_to_exclude": [
    "module",
    "function",
    "builtin_function_or_method",
    "instance",
    "_Feature"
   ],
   "window_display": false
  }
 },
 "nbformat": 4,
 "nbformat_minor": 2
}
